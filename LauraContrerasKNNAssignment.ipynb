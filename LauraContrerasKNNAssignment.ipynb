{
 "cells": [
  {
   "cell_type": "code",
   "execution_count": 1,
   "id": "40b2681d",
   "metadata": {},
   "outputs": [],
   "source": [
    "import numpy as np\n",
    "import pandas as pd\n",
    "import matplotlib.pyplot as plt\n",
    "import seaborn as sns\n",
    "from sklearn.metrics.pairwise import euclidean_distances\n",
    "from collections import Counter"
   ]
  },
  {
   "cell_type": "markdown",
   "id": "a2a82c6a",
   "metadata": {},
   "source": [
    "## Part 1"
   ]
  },
  {
   "cell_type": "markdown",
   "id": "fffebcea",
   "metadata": {},
   "source": [
    "## 1a)\n",
    "Read the data provided on canvas into Python as follows: place csv files into pandas dataframes"
   ]
  },
  {
   "cell_type": "code",
   "execution_count": 2,
   "id": "e896d747",
   "metadata": {},
   "outputs": [],
   "source": [
    "delivery_train = pd.read_csv(\"delivery_time_train_data.csv\")\n",
    "delivery_test = pd.read_csv(\"delivery_time_test_data.csv\")\n",
    "student_train = pd.read_csv(\"student_train_data.csv\")\n",
    "student_test = pd.read_csv(\"student_test_data.csv\")"
   ]
  },
  {
   "cell_type": "code",
   "execution_count": 3,
   "id": "39a20790",
   "metadata": {},
   "outputs": [
    {
     "data": {
      "text/html": [
       "<div>\n",
       "<style scoped>\n",
       "    .dataframe tbody tr th:only-of-type {\n",
       "        vertical-align: middle;\n",
       "    }\n",
       "\n",
       "    .dataframe tbody tr th {\n",
       "        vertical-align: top;\n",
       "    }\n",
       "\n",
       "    .dataframe thead th {\n",
       "        text-align: right;\n",
       "    }\n",
       "</style>\n",
       "<table border=\"1\" class=\"dataframe\">\n",
       "  <thead>\n",
       "    <tr style=\"text-align: right;\">\n",
       "      <th></th>\n",
       "      <th>Miles</th>\n",
       "      <th>Deliveries</th>\n",
       "      <th>Time</th>\n",
       "    </tr>\n",
       "  </thead>\n",
       "  <tbody>\n",
       "    <tr>\n",
       "      <th>0</th>\n",
       "      <td>100</td>\n",
       "      <td>4</td>\n",
       "      <td>9.3</td>\n",
       "    </tr>\n",
       "    <tr>\n",
       "      <th>1</th>\n",
       "      <td>50</td>\n",
       "      <td>3</td>\n",
       "      <td>4.8</td>\n",
       "    </tr>\n",
       "    <tr>\n",
       "      <th>2</th>\n",
       "      <td>100</td>\n",
       "      <td>4</td>\n",
       "      <td>8.9</td>\n",
       "    </tr>\n",
       "    <tr>\n",
       "      <th>3</th>\n",
       "      <td>100</td>\n",
       "      <td>2</td>\n",
       "      <td>6.5</td>\n",
       "    </tr>\n",
       "    <tr>\n",
       "      <th>4</th>\n",
       "      <td>50</td>\n",
       "      <td>2</td>\n",
       "      <td>4.2</td>\n",
       "    </tr>\n",
       "  </tbody>\n",
       "</table>\n",
       "</div>"
      ],
      "text/plain": [
       "   Miles  Deliveries  Time\n",
       "0    100           4   9.3\n",
       "1     50           3   4.8\n",
       "2    100           4   8.9\n",
       "3    100           2   6.5\n",
       "4     50           2   4.2"
      ]
     },
     "execution_count": 3,
     "metadata": {},
     "output_type": "execute_result"
    }
   ],
   "source": [
    "delivery_train.head(5)"
   ]
  },
  {
   "cell_type": "code",
   "execution_count": 4,
   "id": "f820ea86",
   "metadata": {},
   "outputs": [
    {
     "data": {
      "text/html": [
       "<div>\n",
       "<style scoped>\n",
       "    .dataframe tbody tr th:only-of-type {\n",
       "        vertical-align: middle;\n",
       "    }\n",
       "\n",
       "    .dataframe tbody tr th {\n",
       "        vertical-align: top;\n",
       "    }\n",
       "\n",
       "    .dataframe thead th {\n",
       "        text-align: right;\n",
       "    }\n",
       "</style>\n",
       "<table border=\"1\" class=\"dataframe\">\n",
       "  <thead>\n",
       "    <tr style=\"text-align: right;\">\n",
       "      <th></th>\n",
       "      <th>Miles</th>\n",
       "      <th>Deliveries</th>\n",
       "      <th>Time</th>\n",
       "    </tr>\n",
       "  </thead>\n",
       "  <tbody>\n",
       "    <tr>\n",
       "      <th>0</th>\n",
       "      <td>50</td>\n",
       "      <td>3</td>\n",
       "      <td>4.6</td>\n",
       "    </tr>\n",
       "    <tr>\n",
       "      <th>1</th>\n",
       "      <td>65</td>\n",
       "      <td>2</td>\n",
       "      <td>5.5</td>\n",
       "    </tr>\n",
       "    <tr>\n",
       "      <th>2</th>\n",
       "      <td>80</td>\n",
       "      <td>1</td>\n",
       "      <td>6.3</td>\n",
       "    </tr>\n",
       "    <tr>\n",
       "      <th>3</th>\n",
       "      <td>70</td>\n",
       "      <td>1</td>\n",
       "      <td>6.2</td>\n",
       "    </tr>\n",
       "    <tr>\n",
       "      <th>4</th>\n",
       "      <td>70</td>\n",
       "      <td>5</td>\n",
       "      <td>8.5</td>\n",
       "    </tr>\n",
       "  </tbody>\n",
       "</table>\n",
       "</div>"
      ],
      "text/plain": [
       "   Miles  Deliveries  Time\n",
       "0     50           3   4.6\n",
       "1     65           2   5.5\n",
       "2     80           1   6.3\n",
       "3     70           1   6.2\n",
       "4     70           5   8.5"
      ]
     },
     "execution_count": 4,
     "metadata": {},
     "output_type": "execute_result"
    }
   ],
   "source": [
    "delivery_test.head(5)"
   ]
  },
  {
   "cell_type": "code",
   "execution_count": 5,
   "id": "b7eef9ef",
   "metadata": {},
   "outputs": [
    {
     "data": {
      "text/html": [
       "<div>\n",
       "<style scoped>\n",
       "    .dataframe tbody tr th:only-of-type {\n",
       "        vertical-align: middle;\n",
       "    }\n",
       "\n",
       "    .dataframe tbody tr th {\n",
       "        vertical-align: top;\n",
       "    }\n",
       "\n",
       "    .dataframe thead th {\n",
       "        text-align: right;\n",
       "    }\n",
       "</style>\n",
       "<table border=\"1\" class=\"dataframe\">\n",
       "  <thead>\n",
       "    <tr style=\"text-align: right;\">\n",
       "      <th></th>\n",
       "      <th>GPA</th>\n",
       "      <th>Age</th>\n",
       "      <th>Dropped</th>\n",
       "    </tr>\n",
       "  </thead>\n",
       "  <tbody>\n",
       "    <tr>\n",
       "      <th>0</th>\n",
       "      <td>3.78</td>\n",
       "      <td>21</td>\n",
       "      <td>0</td>\n",
       "    </tr>\n",
       "    <tr>\n",
       "      <th>1</th>\n",
       "      <td>2.38</td>\n",
       "      <td>27</td>\n",
       "      <td>0</td>\n",
       "    </tr>\n",
       "    <tr>\n",
       "      <th>2</th>\n",
       "      <td>3.05</td>\n",
       "      <td>21</td>\n",
       "      <td>1</td>\n",
       "    </tr>\n",
       "    <tr>\n",
       "      <th>3</th>\n",
       "      <td>2.19</td>\n",
       "      <td>28</td>\n",
       "      <td>1</td>\n",
       "    </tr>\n",
       "    <tr>\n",
       "      <th>4</th>\n",
       "      <td>3.22</td>\n",
       "      <td>23</td>\n",
       "      <td>0</td>\n",
       "    </tr>\n",
       "  </tbody>\n",
       "</table>\n",
       "</div>"
      ],
      "text/plain": [
       "    GPA  Age  Dropped\n",
       "0  3.78   21        0\n",
       "1  2.38   27        0\n",
       "2  3.05   21        1\n",
       "3  2.19   28        1\n",
       "4  3.22   23        0"
      ]
     },
     "execution_count": 5,
     "metadata": {},
     "output_type": "execute_result"
    }
   ],
   "source": [
    "student_train.head(5)"
   ]
  },
  {
   "cell_type": "code",
   "execution_count": 6,
   "id": "174bfa70",
   "metadata": {},
   "outputs": [
    {
     "data": {
      "text/html": [
       "<div>\n",
       "<style scoped>\n",
       "    .dataframe tbody tr th:only-of-type {\n",
       "        vertical-align: middle;\n",
       "    }\n",
       "\n",
       "    .dataframe tbody tr th {\n",
       "        vertical-align: top;\n",
       "    }\n",
       "\n",
       "    .dataframe thead th {\n",
       "        text-align: right;\n",
       "    }\n",
       "</style>\n",
       "<table border=\"1\" class=\"dataframe\">\n",
       "  <thead>\n",
       "    <tr style=\"text-align: right;\">\n",
       "      <th></th>\n",
       "      <th>GPA</th>\n",
       "      <th>Age</th>\n",
       "      <th>Dropped</th>\n",
       "    </tr>\n",
       "  </thead>\n",
       "  <tbody>\n",
       "    <tr>\n",
       "      <th>0</th>\n",
       "      <td>2.49</td>\n",
       "      <td>26</td>\n",
       "      <td>1</td>\n",
       "    </tr>\n",
       "    <tr>\n",
       "      <th>1</th>\n",
       "      <td>2.67</td>\n",
       "      <td>29</td>\n",
       "      <td>0</td>\n",
       "    </tr>\n",
       "    <tr>\n",
       "      <th>2</th>\n",
       "      <td>2.86</td>\n",
       "      <td>29</td>\n",
       "      <td>1</td>\n",
       "    </tr>\n",
       "    <tr>\n",
       "      <th>3</th>\n",
       "      <td>2.21</td>\n",
       "      <td>26</td>\n",
       "      <td>0</td>\n",
       "    </tr>\n",
       "    <tr>\n",
       "      <th>4</th>\n",
       "      <td>2.91</td>\n",
       "      <td>20</td>\n",
       "      <td>1</td>\n",
       "    </tr>\n",
       "  </tbody>\n",
       "</table>\n",
       "</div>"
      ],
      "text/plain": [
       "    GPA  Age  Dropped\n",
       "0  2.49   26        1\n",
       "1  2.67   29        0\n",
       "2  2.86   29        1\n",
       "3  2.21   26        0\n",
       "4  2.91   20        1"
      ]
     },
     "execution_count": 6,
     "metadata": {},
     "output_type": "execute_result"
    }
   ],
   "source": [
    "student_test.head(5)"
   ]
  },
  {
   "cell_type": "markdown",
   "id": "e26ebf6a",
   "metadata": {},
   "source": [
    "### 1b) \n",
    "Split the data into taining and test set"
   ]
  },
  {
   "cell_type": "code",
   "execution_count": 7,
   "id": "8395a866",
   "metadata": {},
   "outputs": [],
   "source": [
    "#Splitting delivery train\n",
    "X_delivery_train = delivery_train[[\"Miles\", \"Deliveries\"]]\n",
    "y_delivery_train = delivery_train[[\"Time\"]]\n",
    "\n",
    "#Splitting the delivery test\n",
    "X_delivery_test = delivery_test[[\"Miles\", \"Deliveries\"]]\n",
    "y_delivery_test = delivery_test[[\"Time\"]]\n",
    "\n",
    "#Splitting the student train\n",
    "X_student_train = student_train[[\"GPA\", \"Age\"]]\n",
    "y_student_train = student_train[[\"Dropped\"]]\n",
    "\n",
    "#Splitting the student test\n",
    "X_student_test = student_test[[\"GPA\", \"Age\"]]\n",
    "y_student_test = student_test[[\"Dropped\"]]"
   ]
  },
  {
   "cell_type": "code",
   "execution_count": 8,
   "id": "07d2b2a9",
   "metadata": {},
   "outputs": [
    {
     "name": "stdout",
     "output_type": "stream",
     "text": [
      "(199, 2)\n",
      "(199, 1)\n",
      "\n",
      "(101, 2)\n",
      "(101, 1)\n",
      "\n",
      "(400, 2)\n",
      "(400, 1)\n",
      "\n",
      "(100, 2)\n",
      "(100, 1)\n"
     ]
    }
   ],
   "source": [
    "#Shape of delivery train\n",
    "print(X_delivery_train.shape)\n",
    "print(y_delivery_train.shape)\n",
    "print()\n",
    "\n",
    "#Shape of delivery test\n",
    "print(X_delivery_test.shape)\n",
    "print(y_delivery_test.shape)\n",
    "print()\n",
    "\n",
    "#Shape of student train\n",
    "print(X_student_train.shape)\n",
    "print(y_student_train.shape)\n",
    "print()\n",
    "\n",
    "#Shape of student test\n",
    "print(X_student_test.shape)\n",
    "print(y_student_test.shape)"
   ]
  },
  {
   "attachments": {
    "image.png": {
     "image/png": "[encoded data removed]"
    }
   },
   "cell_type": "markdown",
   "id": "01c6cd10",
   "metadata": {},
   "source": [
    "### 1c) \n",
    "Use the following pseudo code to implement the algorithm (also see class notes on ideas for writing knn from scratch to see the details of each step in the body of the code). Here is the pseudo code:\n",
    "![image.png](attachment:image.png)\n",
    "You would use the delivery data for regression: that is, miles (“Miles”) and number of deliveries (“Deliveries”) would be use an input to predict the total time it takes for a delivery truck to deliver Amazon packages. "
   ]
  },
  {
   "cell_type": "code",
   "execution_count": 9,
   "id": "55be71c5",
   "metadata": {},
   "outputs": [],
   "source": [
    "def knn_predict(X_train, y_train, X_test, k =5):\n",
    "    y_pred = []\n",
    "    \n",
    "    for i in range(0, len(X_test)):\n",
    "        # extract a test instance from the X_test data\n",
    "        test_instance = np.array([X_test.iloc[i]])\n",
    "\n",
    "        #find the distances between the test instance and all the training instances\n",
    "        d = euclidean_distances(X_train, test_instance)\n",
    "\n",
    "        #stack the distances between the test \n",
    "        stacked = np.stack((d.flatten(), y_train.Time.values), axis = 1)\n",
    "        \n",
    "        #finding the y_train values for the nearest k-neighbors\n",
    "        y_train_nearest_k = stacked[np.argsort(stacked[:,0])][0:k, 0]\n",
    "        y_train_nearest_k\n",
    "        \n",
    "        # make a prediction for the test instanced\n",
    "        predicted_y = np.mean(y_train_nearest_k)\n",
    "        \n",
    "        # appening y_pred\n",
    "        y_pred.append(predicted_y)\n",
    "        \n",
    "    return y_pred"
   ]
  },
  {
   "cell_type": "code",
   "execution_count": 10,
   "id": "ef687b49",
   "metadata": {
    "scrolled": true
   },
   "outputs": [],
   "source": [
    "test_pred = knn_predict(X_delivery_train, y_delivery_train, X_delivery_test) "
   ]
  },
  {
   "cell_type": "markdown",
   "id": "15a73048",
   "metadata": {},
   "source": [
    "### 1d)\n",
    "Writing your own MSE function"
   ]
  },
  {
   "cell_type": "code",
   "execution_count": 11,
   "id": "1705faf5",
   "metadata": {},
   "outputs": [],
   "source": [
    "def mse(y_arr, y_arr_pred):\n",
    "    mse = 0\n",
    "    for i in range(len(y_arr)):\n",
    "        mse += ((y_arr[i]-y_arr_pred[i])**2)\n",
    "    mse = mse/len(y_arr)\n",
    "    return mse\n",
    "    #return np.square(np.subtract(y_delivery_test, y_delivery_test_pred)).mean()"
   ]
  },
  {
   "cell_type": "markdown",
   "id": "4bdf79e9",
   "metadata": {},
   "source": [
    "### 1e) \n",
    "Does your algorithm overfit the data? "
   ]
  },
  {
   "cell_type": "code",
   "execution_count": 12,
   "id": "140af984",
   "metadata": {},
   "outputs": [
    {
     "data": {
      "text/plain": [
       "array([51.7429703])"
      ]
     },
     "execution_count": 12,
     "metadata": {},
     "output_type": "execute_result"
    }
   ],
   "source": [
    "mse(np.array(y_delivery_test), np.array(test_pred))"
   ]
  },
  {
   "cell_type": "code",
   "execution_count": 13,
   "id": "f037b3b0",
   "metadata": {},
   "outputs": [],
   "source": [
    "# Train set MSE"
   ]
  },
  {
   "cell_type": "code",
   "execution_count": 14,
   "id": "eb70af5e",
   "metadata": {
    "scrolled": true
   },
   "outputs": [
    {
     "data": {
      "text/plain": [
       "array([49.27788945])"
      ]
     },
     "execution_count": 14,
     "metadata": {},
     "output_type": "execute_result"
    }
   ],
   "source": [
    "test_pred = knn_predict(X_delivery_train, y_delivery_train, X_delivery_train) \n",
    "mse(np.array(y_delivery_train), np.array(test_pred))"
   ]
  },
  {
   "cell_type": "markdown",
   "id": "29f11792",
   "metadata": {},
   "source": [
    "I obtained a slightly smaller MSE for the training set, which is an indication that the training set is doing a better job at fitting the data. This means our algorithm is overfitting."
   ]
  },
  {
   "cell_type": "markdown",
   "id": "c013a6be",
   "metadata": {},
   "source": [
    "### 1f)\n",
    "Now, tune the hyperparameter, k, of your algorithm. Specify a grid of hyperparameter values from k=1 to k=50. Use a for-loop, then inside the for-loop body, use the knn_predict() function as well as the mse() function to compute the mse values for the training set and test set for different values of k in the hyperparameter grid. Plot the training and test error rates of the model versus the grid of hyperparameter values. "
   ]
  },
  {
   "cell_type": "code",
   "execution_count": 15,
   "id": "01a43630",
   "metadata": {},
   "outputs": [],
   "source": [
    "k_test = []\n",
    "k_train = []\n",
    "for k in range(1, 51):\n",
    "    k_train.append(mse(np.array(y_delivery_train), \n",
    "                       np.array(knn_predict(X_delivery_train, y_delivery_train, X_delivery_train, k)))[0])\n",
    "    k_test.append(mse(np.array(y_delivery_test), \n",
    "                      np.array(knn_predict(X_delivery_train, y_delivery_train, X_delivery_test, k)))[0])"
   ]
  },
  {
   "cell_type": "code",
   "execution_count": 16,
   "id": "559e2e7c",
   "metadata": {},
   "outputs": [
    {
     "data": {
      "image/png": "[encoded data removed]",
      "text/plain": [
       "<Figure size 432x288 with 1 Axes>"
      ]
     },
     "metadata": {
      "needs_background": "light"
     },
     "output_type": "display_data"
    }
   ],
   "source": [
    "plt.plot(range(1, 51), k_train , color = 'red', label = 'Train')\n",
    "plt.plot(range(1, 51), k_test, color = 'green', label = 'Test')\n",
    "plt.title('Error Rates')\n",
    "plt.ylabel('Error Rates')\n",
    "plt.xlabel('K values')\n",
    "plt.show()"
   ]
  },
  {
   "cell_type": "markdown",
   "id": "30a663e0",
   "metadata": {},
   "source": [
    "### 1g)\n",
    "Now, construct and fit a k-nearest neighbor model using the  KNeighborsRegressor() estimator in sklearn.neighbors module. Use the mean_square_error() function inside the sklearn.metrics module to compute the mse of the model on the test set. Is this similar to the mse value you got from the algorithm function you wrote from scratch? "
   ]
  },
  {
   "cell_type": "code",
   "execution_count": 18,
   "id": "7caa0c70",
   "metadata": {},
   "outputs": [],
   "source": [
    "from sklearn.neighbors import KNeighborsRegressor\n",
    "from sklearn.metrics import mean_squared_error"
   ]
  },
  {
   "cell_type": "code",
   "execution_count": 19,
   "id": "78e4b487",
   "metadata": {},
   "outputs": [
    {
     "data": {
      "text/plain": [
       "1.142752475247525"
      ]
     },
     "execution_count": 19,
     "metadata": {},
     "output_type": "execute_result"
    }
   ],
   "source": [
    "knr = KNeighborsRegressor()\n",
    "knr.fit(X_delivery_train, y_delivery_train)\n",
    "preds = knr.predict(X_delivery_test)\n",
    "mean_squared_error(y_delivery_test, preds)"
   ]
  },
  {
   "cell_type": "markdown",
   "id": "388bcefc",
   "metadata": {},
   "source": [
    "This answer is not similar to the same answer I got in my contsructed mse for the test set. The MSE I obtained for that was large, 51.7429703, not 1.1475"
   ]
  },
  {
   "cell_type": "markdown",
   "id": "47d91eb9",
   "metadata": {},
   "source": [
    "### 1h)\n",
    "\n",
    "Using the Pipeline constructor inside the sklearn.pipeline module, scale the X_delivery_train with the StandardScaler(), and also construct the KNeighborsRegressor() inside the Pipeline(). Then the call the fit() method on the pipeline object to fit the model into the delivery training data. Transform the X_delivery_test data using StandardScaler() and use the mean_squared_error () function inside the sklearn.metrics module to compute the mse of the model on the test set. Is this mse similar to the mse you got when you used the unscaled input data in (g) above?"
   ]
  },
  {
   "cell_type": "code",
   "execution_count": 20,
   "id": "286e660c",
   "metadata": {},
   "outputs": [],
   "source": [
    "from sklearn.pipeline import Pipeline\n",
    "from sklearn.preprocessing import StandardScaler"
   ]
  },
  {
   "cell_type": "code",
   "execution_count": 21,
   "id": "de365e08",
   "metadata": {},
   "outputs": [
    {
     "data": {
      "text/plain": [
       "[('stanscalar', StandardScaler()), ('knr', KNeighborsRegressor())]"
      ]
     },
     "execution_count": 21,
     "metadata": {},
     "output_type": "execute_result"
    }
   ],
   "source": [
    "pipe = Pipeline([('stanscalar', StandardScaler()), ('knr', KNeighborsRegressor())])\n",
    "pipe.steps"
   ]
  },
  {
   "cell_type": "code",
   "execution_count": 22,
   "id": "641af797",
   "metadata": {},
   "outputs": [
    {
     "data": {
      "text/plain": [
       "1.0299128712871293"
      ]
     },
     "execution_count": 22,
     "metadata": {},
     "output_type": "execute_result"
    }
   ],
   "source": [
    "pipe.fit(X_delivery_train, y_delivery_train)\n",
    "pipe_test = pipe.predict(X_delivery_test)\n",
    "mean_squared_error(y_delivery_test, pipe_test)"
   ]
  },
  {
   "cell_type": "markdown",
   "id": "f596eb0d",
   "metadata": {},
   "source": [
    "It is somewhat similar to the unscalled input in g, however the MSE is much lower indicating that it is a better model with the scaled data."
   ]
  },
  {
   "cell_type": "markdown",
   "id": "a5956867",
   "metadata": {},
   "source": [
    "### 1i)\n",
    "i)\tUse the scaled X_delivery_train and X_delivery_test data and the RandomForestRegressor constructor inside the sklearn.ensemble module to construct/fit a random forest model, the compute the mse for this model. Is this mse similar to the one you got in question (h) above? "
   ]
  },
  {
   "cell_type": "code",
   "execution_count": 23,
   "id": "38bed74d",
   "metadata": {},
   "outputs": [],
   "source": [
    "from sklearn.ensemble import RandomForestRegressor"
   ]
  },
  {
   "cell_type": "code",
   "execution_count": 24,
   "id": "e8ad2614",
   "metadata": {},
   "outputs": [
    {
     "data": {
      "text/plain": [
       "[('stanscalar', StandardScaler()), ('rfr', RandomForestRegressor())]"
      ]
     },
     "execution_count": 24,
     "metadata": {},
     "output_type": "execute_result"
    }
   ],
   "source": [
    "pipe = Pipeline([('stanscalar', StandardScaler()), ('rfr', RandomForestRegressor())])\n",
    "pipe.steps"
   ]
  },
  {
   "cell_type": "code",
   "execution_count": 25,
   "id": "26f22fc9",
   "metadata": {},
   "outputs": [
    {
     "data": {
      "text/plain": [
       "0.9638844867667695"
      ]
     },
     "execution_count": 25,
     "metadata": {},
     "output_type": "execute_result"
    }
   ],
   "source": [
    "pipe.fit(X_delivery_train, y_delivery_train.values.ravel())\n",
    "pipe_test = pipe.predict(X_delivery_test)\n",
    "mean_squared_error(y_delivery_test, pipe_test)"
   ]
  },
  {
   "cell_type": "markdown",
   "id": "da3366aa",
   "metadata": {},
   "source": [
    "It was a little bit lower than the MSE obtained in 1h, indicating that a RandomForestRegressor is a better model since we have a lower mean squared error. "
   ]
  },
  {
   "cell_type": "markdown",
   "id": "99a67fa8",
   "metadata": {},
   "source": [
    "## Question 2\n",
    "\n",
    "### 2a)\n",
    "You would use the student data for classification: that is, GPA and Age would be used as input to predict wither a student will drop out of school (Dropped=1) or not drop (Dropped=0). You will write a k-nearest neighbor algorithm function that learns from the training set and classifies given test instances to class 0 or class 1. \n",
    "\n",
    "Use the following pseudo code to implement the algorithm (also see class notes on ideas for writing knn from scratch to see the details of each step in the body of the code). Here is the pseudo code:"
   ]
  },
  {
   "cell_type": "code",
   "execution_count": 26,
   "id": "e8d963e8",
   "metadata": {},
   "outputs": [],
   "source": [
    "def knn_predict2(X_train, y_train, X_test, k =5):\n",
    "    y_pred = []\n",
    "    \n",
    "    for i in range(0, len(X_test)):\n",
    "        # extract a test instance from the X_test data\n",
    "        test_instance = np.array([X_test.iloc[i]])\n",
    "        \n",
    "        d = []\n",
    "        for j in range(0, len(X_train)):\n",
    "            #find the distances between the test instance and all the training instances\n",
    "            d.append(euclidean_distances(test_instance, np.array([X_train.iloc[j]])))\n",
    "        \n",
    "        # create dataframe\n",
    "        dist = pd.DataFrame((np.array(d).reshape(400,1)), columns = ['distance'], index = y_train.index)\n",
    "        \n",
    "        # Sort by the distance column, pick k number of y_train values, where k is much less than the length of the training set\n",
    "        distdf = dist.sort_values(by=['distance'], axis=0)[:k]\n",
    "        \n",
    "        # Counter creation on the train set\n",
    "        counter = Counter(y_train.iloc[distdf.index[0]])\n",
    "        for l in range(0, len(distdf)):\n",
    "            counter.update(y_train.iloc[l+1])\n",
    "\n",
    "        #finding the y_train values for the nearest k-neighbors and append to prediction\n",
    "        y_pred.append(counter.most_common()[0][0])\n",
    "        \n",
    "    return np.array(y_pred)"
   ]
  },
  {
   "cell_type": "code",
   "execution_count": 27,
   "id": "d844f60a",
   "metadata": {},
   "outputs": [],
   "source": [
    "scaler = StandardScaler()\n",
    "scaler.fit(X_student_train)\n",
    "X_student_scl_train = scaler.transform(X_student_train)\n",
    "X_student_scl_train = pd.DataFrame(X_student_scl_train)\n",
    "\n",
    "# \n",
    "scaler.fit(X_student_test)\n",
    "X_student_scl_test = scaler.transform(X_student_test)\n",
    "X_student_scl_test = pd.DataFrame(X_student_scl_test)"
   ]
  },
  {
   "cell_type": "code",
   "execution_count": 28,
   "id": "bba47e3d",
   "metadata": {},
   "outputs": [],
   "source": [
    "test_pred = knn_predict2(X_student_scl_train, y_student_train, X_student_scl_test) \n",
    "train_pred = knn_predict2(X_student_scl_train, y_student_train, X_student_scl_train) "
   ]
  },
  {
   "cell_type": "markdown",
   "id": "b7c762c9",
   "metadata": {},
   "source": [
    "### 2b)\n",
    "Define an accuracy function for the overall accuracy of your algorithm."
   ]
  },
  {
   "cell_type": "code",
   "execution_count": 29,
   "id": "3926309d",
   "metadata": {},
   "outputs": [],
   "source": [
    "def overall_acc(y_true, y_pred):\n",
    "    return np.mean(y_true == y_pred)"
   ]
  },
  {
   "cell_type": "code",
   "execution_count": 30,
   "id": "c944cd3b",
   "metadata": {},
   "outputs": [
    {
     "data": {
      "text/plain": [
       "0.5918"
      ]
     },
     "execution_count": 30,
     "metadata": {},
     "output_type": "execute_result"
    }
   ],
   "source": [
    "# accuracy of the test predictions\n",
    "overall_acc(np.array(y_student_test), np.array(test_pred))"
   ]
  },
  {
   "cell_type": "code",
   "execution_count": 31,
   "id": "07a095d6",
   "metadata": {},
   "outputs": [
    {
     "data": {
      "text/plain": [
       "0.5903125"
      ]
     },
     "execution_count": 31,
     "metadata": {},
     "output_type": "execute_result"
    }
   ],
   "source": [
    "# accuracy of the training predictions\n",
    "overall_acc(np.array(y_student_train), np.array(train_pred))"
   ]
  },
  {
   "cell_type": "markdown",
   "id": "315e95d8",
   "metadata": {},
   "source": [
    "### 2c)\n",
    "Use GridSearch in scikit learn to tune the parameter of the k-nearest neighbor classifier, then use that optimal parameter to compute the accuracy of the knn estimator on the test set. Is this accuracy score similar to that obtained using your knn algorithm from scratch?"
   ]
  },
  {
   "cell_type": "code",
   "execution_count": 32,
   "id": "294d196a",
   "metadata": {},
   "outputs": [
    {
     "data": {
      "text/plain": [
       "GridSearchCV(estimator=KNeighborsClassifier(),\n",
       "             param_grid={'n_neighbors': range(1, 51)}, scoring='accuracy')"
      ]
     },
     "execution_count": 32,
     "metadata": {},
     "output_type": "execute_result"
    }
   ],
   "source": [
    "from sklearn.model_selection import GridSearchCV\n",
    "from sklearn.neighbors import KNeighborsClassifier\n",
    "\n",
    "#looking at n_neighbors from 1-50 odd numbers\n",
    "new_params = {'n_neighbors': range(1,51)}\n",
    "grid_knn = GridSearchCV(estimator = KNeighborsClassifier(), param_grid = new_params, scoring=\"accuracy\")\n",
    "grid_knn.fit(X_student_scl_train, y_student_train.values.ravel())"
   ]
  },
  {
   "cell_type": "code",
   "execution_count": 33,
   "id": "ff8e1c66",
   "metadata": {},
   "outputs": [
    {
     "data": {
      "text/plain": [
       "KNeighborsClassifier(n_neighbors=19)"
      ]
     },
     "execution_count": 33,
     "metadata": {},
     "output_type": "execute_result"
    }
   ],
   "source": [
    "grid_knn.best_estimator_"
   ]
  },
  {
   "cell_type": "code",
   "execution_count": 34,
   "id": "9b6fa207",
   "metadata": {},
   "outputs": [],
   "source": [
    "new_knn = grid_knn.best_estimator_\n",
    "new_knn.fit(X_student_scl_train, y_student_train.values.ravel())\n",
    "new_pred = new_knn.predict(X_student_scl_test)"
   ]
  },
  {
   "cell_type": "code",
   "execution_count": 35,
   "id": "7bdc3621",
   "metadata": {},
   "outputs": [
    {
     "data": {
      "text/plain": [
       "0.6998"
      ]
     },
     "execution_count": 35,
     "metadata": {},
     "output_type": "execute_result"
    }
   ],
   "source": [
    "overall_acc(np.array(y_student_test), np.array(new_pred))"
   ]
  },
  {
   "cell_type": "markdown",
   "id": "571ade76",
   "metadata": {},
   "source": [
    "No, this accuracy score is a little higher than our built model. In this, we have an accuracy score of 0.6998 with the best estimator being n_neighbors = 19. Our accuracy in 2b was 0.592 for the test set."
   ]
  },
  {
   "cell_type": "markdown",
   "id": "98ce1c25",
   "metadata": {},
   "source": [
    "### 2d)\n",
    "Also build another model using a random forest classifier and compute the accuracy score on the test set. Which of these models is the better, the model is question 2c or this model in question 2d? Why or why not?"
   ]
  },
  {
   "cell_type": "code",
   "execution_count": 36,
   "id": "03c61618",
   "metadata": {},
   "outputs": [],
   "source": [
    "from sklearn.ensemble import RandomForestClassifier"
   ]
  },
  {
   "cell_type": "code",
   "execution_count": 37,
   "id": "20620502",
   "metadata": {},
   "outputs": [
    {
     "name": "stdout",
     "output_type": "stream",
     "text": [
      "RandomForestClassifier(random_state=42)\n",
      "Accuracy: 0.66\n"
     ]
    }
   ],
   "source": [
    "rfc = RandomForestClassifier(random_state=42)\n",
    "rfc.fit(X_student_scl_train, y_student_train.values.ravel())\n",
    "y_test_pred = rfc.predict(X_student_scl_test)\n",
    "print(rfc)\n",
    "#Accuracy\n",
    "print(f\"Accuracy: {rfc.score(X_student_scl_test, y_student_test.values.ravel())}\")"
   ]
  },
  {
   "cell_type": "markdown",
   "id": "6b9655e3",
   "metadata": {},
   "source": [
    "According to the accuracy obtained from the RandomForestClassifier, the KNN model is still the best since it has an accuracy of 0.6998, while the Random Forest model has an accuracy of 0.65."
   ]
  },
  {
   "cell_type": "markdown",
   "id": "7ed8b7ae",
   "metadata": {},
   "source": [
    "## Question 3"
   ]
  },
  {
   "cell_type": "markdown",
   "id": "a95f3320",
   "metadata": {},
   "source": [
    "Find your own dataset suitable for classification or regression with at least three input variables and 200 or more cases: Depending on the target variable of interest, you would build a k-nearest neighbor classifier or regressor using the appropriate sklearn estimator. Find some interesting unique dataset that is not popularly used in the internet. "
   ]
  },
  {
   "cell_type": "markdown",
   "id": "65b79daa",
   "metadata": {},
   "source": [
    "### a) \n",
    "State your research question: Utilizing the Pima Diabetes dataset, will the RandomForest Classifier, DecisionTreeClassifier, or the K-NearestNeighborClassifier be the better model to predict whether a Pima woman will have diabetes or not.  \n",
    "\n",
    "Dataset taken from https://vincentarelbundock.github.io/Rdatasets/articles/data.html"
   ]
  },
  {
   "cell_type": "markdown",
   "id": "b3c1ff53",
   "metadata": {},
   "source": [
    "### b)\n",
    "Data Pre-Processing"
   ]
  },
  {
   "cell_type": "code",
   "execution_count": 38,
   "id": "9aaa978e",
   "metadata": {},
   "outputs": [
    {
     "data": {
      "text/html": [
       "<div>\n",
       "<style scoped>\n",
       "    .dataframe tbody tr th:only-of-type {\n",
       "        vertical-align: middle;\n",
       "    }\n",
       "\n",
       "    .dataframe tbody tr th {\n",
       "        vertical-align: top;\n",
       "    }\n",
       "\n",
       "    .dataframe thead th {\n",
       "        text-align: right;\n",
       "    }\n",
       "</style>\n",
       "<table border=\"1\" class=\"dataframe\">\n",
       "  <thead>\n",
       "    <tr style=\"text-align: right;\">\n",
       "      <th></th>\n",
       "      <th>Unnamed: 0</th>\n",
       "      <th>npreg</th>\n",
       "      <th>glu</th>\n",
       "      <th>bp</th>\n",
       "      <th>skin</th>\n",
       "      <th>bmi</th>\n",
       "      <th>ped</th>\n",
       "      <th>age</th>\n",
       "      <th>type</th>\n",
       "    </tr>\n",
       "  </thead>\n",
       "  <tbody>\n",
       "    <tr>\n",
       "      <th>0</th>\n",
       "      <td>1</td>\n",
       "      <td>6</td>\n",
       "      <td>148</td>\n",
       "      <td>72</td>\n",
       "      <td>35</td>\n",
       "      <td>33.6</td>\n",
       "      <td>0.627</td>\n",
       "      <td>50</td>\n",
       "      <td>Yes</td>\n",
       "    </tr>\n",
       "    <tr>\n",
       "      <th>1</th>\n",
       "      <td>2</td>\n",
       "      <td>1</td>\n",
       "      <td>85</td>\n",
       "      <td>66</td>\n",
       "      <td>29</td>\n",
       "      <td>26.6</td>\n",
       "      <td>0.351</td>\n",
       "      <td>31</td>\n",
       "      <td>No</td>\n",
       "    </tr>\n",
       "    <tr>\n",
       "      <th>2</th>\n",
       "      <td>3</td>\n",
       "      <td>1</td>\n",
       "      <td>89</td>\n",
       "      <td>66</td>\n",
       "      <td>23</td>\n",
       "      <td>28.1</td>\n",
       "      <td>0.167</td>\n",
       "      <td>21</td>\n",
       "      <td>No</td>\n",
       "    </tr>\n",
       "    <tr>\n",
       "      <th>3</th>\n",
       "      <td>4</td>\n",
       "      <td>3</td>\n",
       "      <td>78</td>\n",
       "      <td>50</td>\n",
       "      <td>32</td>\n",
       "      <td>31.0</td>\n",
       "      <td>0.248</td>\n",
       "      <td>26</td>\n",
       "      <td>Yes</td>\n",
       "    </tr>\n",
       "    <tr>\n",
       "      <th>4</th>\n",
       "      <td>5</td>\n",
       "      <td>2</td>\n",
       "      <td>197</td>\n",
       "      <td>70</td>\n",
       "      <td>45</td>\n",
       "      <td>30.5</td>\n",
       "      <td>0.158</td>\n",
       "      <td>53</td>\n",
       "      <td>Yes</td>\n",
       "    </tr>\n",
       "  </tbody>\n",
       "</table>\n",
       "</div>"
      ],
      "text/plain": [
       "   Unnamed: 0  npreg  glu  bp  skin   bmi    ped  age type\n",
       "0           1      6  148  72    35  33.6  0.627   50  Yes\n",
       "1           2      1   85  66    29  26.6  0.351   31   No\n",
       "2           3      1   89  66    23  28.1  0.167   21   No\n",
       "3           4      3   78  50    32  31.0  0.248   26  Yes\n",
       "4           5      2  197  70    45  30.5  0.158   53  Yes"
      ]
     },
     "execution_count": 38,
     "metadata": {},
     "output_type": "execute_result"
    }
   ],
   "source": [
    "diabetes = pd.read_csv(\"Pima.te.csv\", skipinitialspace=True)\n",
    "diabetes.head(5)"
   ]
  },
  {
   "cell_type": "code",
   "execution_count": 39,
   "id": "0cdba305",
   "metadata": {},
   "outputs": [],
   "source": [
    "diabetes.drop(columns=['Unnamed: 0'], inplace = True)"
   ]
  },
  {
   "cell_type": "code",
   "execution_count": 40,
   "id": "e3873992",
   "metadata": {},
   "outputs": [
    {
     "data": {
      "text/plain": [
       "npreg    0\n",
       "glu      0\n",
       "bp       0\n",
       "skin     0\n",
       "bmi      0\n",
       "ped      0\n",
       "age      0\n",
       "type     0\n",
       "dtype: int64"
      ]
     },
     "execution_count": 40,
     "metadata": {},
     "output_type": "execute_result"
    }
   ],
   "source": [
    "# check for null values\n",
    "diabetes.isnull().sum()"
   ]
  },
  {
   "cell_type": "code",
   "execution_count": 41,
   "id": "e83d2404",
   "metadata": {},
   "outputs": [],
   "source": [
    "diabetes.replace( ['NA', 'nan'], np.nan, inplace=True)"
   ]
  },
  {
   "cell_type": "code",
   "execution_count": 42,
   "id": "84cdecb9",
   "metadata": {},
   "outputs": [
    {
     "data": {
      "text/plain": [
       "npreg    0\n",
       "glu      0\n",
       "bp       0\n",
       "skin     0\n",
       "bmi      0\n",
       "ped      0\n",
       "age      0\n",
       "type     0\n",
       "dtype: int64"
      ]
     },
     "execution_count": 42,
     "metadata": {},
     "output_type": "execute_result"
    }
   ],
   "source": [
    "diabetes.isna().sum()"
   ]
  },
  {
   "cell_type": "code",
   "execution_count": 43,
   "id": "21de7f7b",
   "metadata": {
    "scrolled": true
   },
   "outputs": [
    {
     "data": {
      "text/plain": [
       "npreg    0\n",
       "glu      0\n",
       "bp       0\n",
       "skin     0\n",
       "bmi      0\n",
       "ped      0\n",
       "age      0\n",
       "type     0\n",
       "dtype: int64"
      ]
     },
     "execution_count": 43,
     "metadata": {},
     "output_type": "execute_result"
    }
   ],
   "source": [
    "diabetes.isnull().sum()"
   ]
  },
  {
   "cell_type": "code",
   "execution_count": 44,
   "id": "45fcbff1",
   "metadata": {},
   "outputs": [],
   "source": [
    "# converting the target variable yes/no to binary\n",
    "diabetes['type']= diabetes['type'].map({'Yes': 1, 'No':0})"
   ]
  },
  {
   "cell_type": "code",
   "execution_count": 45,
   "id": "5663718e",
   "metadata": {},
   "outputs": [],
   "source": [
    "# scale continuous variables using min-max\n",
    "for i in ['npreg', 'glu', 'bp', 'skin', 'bmi', 'ped', 'age']:\n",
    "    maxn = max(diabetes[i])\n",
    "    minn = min(diabetes[i])\n",
    "    for j in range(len(diabetes)):\n",
    "        x = diabetes.loc[j, i]\n",
    "        diabetes.at[j, i] = (x-minn)/(maxn-minn)"
   ]
  },
  {
   "cell_type": "code",
   "execution_count": 46,
   "id": "95762e48",
   "metadata": {},
   "outputs": [
    {
     "data": {
      "text/html": [
       "<div>\n",
       "<style scoped>\n",
       "    .dataframe tbody tr th:only-of-type {\n",
       "        vertical-align: middle;\n",
       "    }\n",
       "\n",
       "    .dataframe tbody tr th {\n",
       "        vertical-align: top;\n",
       "    }\n",
       "\n",
       "    .dataframe thead th {\n",
       "        text-align: right;\n",
       "    }\n",
       "</style>\n",
       "<table border=\"1\" class=\"dataframe\">\n",
       "  <thead>\n",
       "    <tr style=\"text-align: right;\">\n",
       "      <th></th>\n",
       "      <th>npreg</th>\n",
       "      <th>glu</th>\n",
       "      <th>bp</th>\n",
       "      <th>skin</th>\n",
       "      <th>bmi</th>\n",
       "      <th>ped</th>\n",
       "      <th>age</th>\n",
       "      <th>type</th>\n",
       "    </tr>\n",
       "  </thead>\n",
       "  <tbody>\n",
       "    <tr>\n",
       "      <th>0</th>\n",
       "      <td>0.352941</td>\n",
       "      <td>0.628788</td>\n",
       "      <td>0.558140</td>\n",
       "      <td>0.500000</td>\n",
       "      <td>0.297694</td>\n",
       "      <td>0.232120</td>\n",
       "      <td>0.483333</td>\n",
       "      <td>1</td>\n",
       "    </tr>\n",
       "    <tr>\n",
       "      <th>1</th>\n",
       "      <td>0.058824</td>\n",
       "      <td>0.151515</td>\n",
       "      <td>0.488372</td>\n",
       "      <td>0.392857</td>\n",
       "      <td>0.150943</td>\n",
       "      <td>0.113919</td>\n",
       "      <td>0.166667</td>\n",
       "      <td>0</td>\n",
       "    </tr>\n",
       "    <tr>\n",
       "      <th>2</th>\n",
       "      <td>0.058824</td>\n",
       "      <td>0.181818</td>\n",
       "      <td>0.488372</td>\n",
       "      <td>0.285714</td>\n",
       "      <td>0.182390</td>\n",
       "      <td>0.035118</td>\n",
       "      <td>0.000000</td>\n",
       "      <td>0</td>\n",
       "    </tr>\n",
       "    <tr>\n",
       "      <th>3</th>\n",
       "      <td>0.176471</td>\n",
       "      <td>0.098485</td>\n",
       "      <td>0.302326</td>\n",
       "      <td>0.446429</td>\n",
       "      <td>0.243187</td>\n",
       "      <td>0.069807</td>\n",
       "      <td>0.083333</td>\n",
       "      <td>1</td>\n",
       "    </tr>\n",
       "    <tr>\n",
       "      <th>4</th>\n",
       "      <td>0.117647</td>\n",
       "      <td>1.000000</td>\n",
       "      <td>0.534884</td>\n",
       "      <td>0.678571</td>\n",
       "      <td>0.232704</td>\n",
       "      <td>0.031263</td>\n",
       "      <td>0.533333</td>\n",
       "      <td>1</td>\n",
       "    </tr>\n",
       "  </tbody>\n",
       "</table>\n",
       "</div>"
      ],
      "text/plain": [
       "      npreg       glu        bp      skin       bmi       ped       age  type\n",
       "0  0.352941  0.628788  0.558140  0.500000  0.297694  0.232120  0.483333     1\n",
       "1  0.058824  0.151515  0.488372  0.392857  0.150943  0.113919  0.166667     0\n",
       "2  0.058824  0.181818  0.488372  0.285714  0.182390  0.035118  0.000000     0\n",
       "3  0.176471  0.098485  0.302326  0.446429  0.243187  0.069807  0.083333     1\n",
       "4  0.117647  1.000000  0.534884  0.678571  0.232704  0.031263  0.533333     1"
      ]
     },
     "execution_count": 46,
     "metadata": {},
     "output_type": "execute_result"
    }
   ],
   "source": [
    "diabetes.head(5)"
   ]
  },
  {
   "cell_type": "code",
   "execution_count": 47,
   "id": "38c9e8ce",
   "metadata": {},
   "outputs": [
    {
     "data": {
      "text/html": [
       "<div>\n",
       "<style scoped>\n",
       "    .dataframe tbody tr th:only-of-type {\n",
       "        vertical-align: middle;\n",
       "    }\n",
       "\n",
       "    .dataframe tbody tr th {\n",
       "        vertical-align: top;\n",
       "    }\n",
       "\n",
       "    .dataframe thead th {\n",
       "        text-align: right;\n",
       "    }\n",
       "</style>\n",
       "<table border=\"1\" class=\"dataframe\">\n",
       "  <thead>\n",
       "    <tr style=\"text-align: right;\">\n",
       "      <th></th>\n",
       "      <th>npreg</th>\n",
       "      <th>glu</th>\n",
       "      <th>bp</th>\n",
       "      <th>skin</th>\n",
       "      <th>bmi</th>\n",
       "      <th>ped</th>\n",
       "      <th>age</th>\n",
       "      <th>type</th>\n",
       "    </tr>\n",
       "  </thead>\n",
       "  <tbody>\n",
       "    <tr>\n",
       "      <th>count</th>\n",
       "      <td>332.000000</td>\n",
       "      <td>332.000000</td>\n",
       "      <td>332.000000</td>\n",
       "      <td>332.000000</td>\n",
       "      <td>332.000000</td>\n",
       "      <td>332.000000</td>\n",
       "      <td>332.000000</td>\n",
       "      <td>332.000000</td>\n",
       "    </tr>\n",
       "    <tr>\n",
       "      <th>mean</th>\n",
       "      <td>0.204996</td>\n",
       "      <td>0.411053</td>\n",
       "      <td>0.554112</td>\n",
       "      <td>0.395762</td>\n",
       "      <td>0.290142</td>\n",
       "      <td>0.189888</td>\n",
       "      <td>0.171938</td>\n",
       "      <td>0.328313</td>\n",
       "    </tr>\n",
       "    <tr>\n",
       "      <th>std</th>\n",
       "      <td>0.193155</td>\n",
       "      <td>0.231069</td>\n",
       "      <td>0.148829</td>\n",
       "      <td>0.174073</td>\n",
       "      <td>0.152681</td>\n",
       "      <td>0.155579</td>\n",
       "      <td>0.177270</td>\n",
       "      <td>0.470308</td>\n",
       "    </tr>\n",
       "    <tr>\n",
       "      <th>min</th>\n",
       "      <td>0.000000</td>\n",
       "      <td>0.000000</td>\n",
       "      <td>0.000000</td>\n",
       "      <td>0.000000</td>\n",
       "      <td>0.000000</td>\n",
       "      <td>0.000000</td>\n",
       "      <td>0.000000</td>\n",
       "      <td>0.000000</td>\n",
       "    </tr>\n",
       "    <tr>\n",
       "      <th>25%</th>\n",
       "      <td>0.058824</td>\n",
       "      <td>0.234848</td>\n",
       "      <td>0.465116</td>\n",
       "      <td>0.267857</td>\n",
       "      <td>0.183962</td>\n",
       "      <td>0.077516</td>\n",
       "      <td>0.033333</td>\n",
       "      <td>0.000000</td>\n",
       "    </tr>\n",
       "    <tr>\n",
       "      <th>50%</th>\n",
       "      <td>0.117647</td>\n",
       "      <td>0.356061</td>\n",
       "      <td>0.558140</td>\n",
       "      <td>0.392857</td>\n",
       "      <td>0.283019</td>\n",
       "      <td>0.152034</td>\n",
       "      <td>0.100000</td>\n",
       "      <td>0.000000</td>\n",
       "    </tr>\n",
       "    <tr>\n",
       "      <th>75%</th>\n",
       "      <td>0.294118</td>\n",
       "      <td>0.539773</td>\n",
       "      <td>0.651163</td>\n",
       "      <td>0.517857</td>\n",
       "      <td>0.373166</td>\n",
       "      <td>0.254497</td>\n",
       "      <td>0.266667</td>\n",
       "      <td>1.000000</td>\n",
       "    </tr>\n",
       "    <tr>\n",
       "      <th>max</th>\n",
       "      <td>1.000000</td>\n",
       "      <td>1.000000</td>\n",
       "      <td>1.000000</td>\n",
       "      <td>1.000000</td>\n",
       "      <td>1.000000</td>\n",
       "      <td>1.000000</td>\n",
       "      <td>1.000000</td>\n",
       "      <td>1.000000</td>\n",
       "    </tr>\n",
       "  </tbody>\n",
       "</table>\n",
       "</div>"
      ],
      "text/plain": [
       "            npreg         glu          bp        skin         bmi         ped  \\\n",
       "count  332.000000  332.000000  332.000000  332.000000  332.000000  332.000000   \n",
       "mean     0.204996    0.411053    0.554112    0.395762    0.290142    0.189888   \n",
       "std      0.193155    0.231069    0.148829    0.174073    0.152681    0.155579   \n",
       "min      0.000000    0.000000    0.000000    0.000000    0.000000    0.000000   \n",
       "25%      0.058824    0.234848    0.465116    0.267857    0.183962    0.077516   \n",
       "50%      0.117647    0.356061    0.558140    0.392857    0.283019    0.152034   \n",
       "75%      0.294118    0.539773    0.651163    0.517857    0.373166    0.254497   \n",
       "max      1.000000    1.000000    1.000000    1.000000    1.000000    1.000000   \n",
       "\n",
       "              age        type  \n",
       "count  332.000000  332.000000  \n",
       "mean     0.171938    0.328313  \n",
       "std      0.177270    0.470308  \n",
       "min      0.000000    0.000000  \n",
       "25%      0.033333    0.000000  \n",
       "50%      0.100000    0.000000  \n",
       "75%      0.266667    1.000000  \n",
       "max      1.000000    1.000000  "
      ]
     },
     "execution_count": 47,
     "metadata": {},
     "output_type": "execute_result"
    }
   ],
   "source": [
    "diabetes.describe()"
   ]
  },
  {
   "cell_type": "markdown",
   "id": "ac124149",
   "metadata": {},
   "source": [
    "### c)\n",
    "Data Splitting:\n",
    "\n",
    "Utilizing the Type variable as the target and then the others as the predictors."
   ]
  },
  {
   "cell_type": "code",
   "execution_count": 48,
   "id": "41f6a22a",
   "metadata": {},
   "outputs": [],
   "source": [
    "from sklearn.model_selection import train_test_split"
   ]
  },
  {
   "cell_type": "code",
   "execution_count": 49,
   "id": "cda01f27",
   "metadata": {},
   "outputs": [],
   "source": [
    "y = diabetes['type']\n",
    "X = diabetes.drop('type', axis = 1)\n",
    "X_train, X_test, y_train, y_test = train_test_split(X, y, test_size=0.3, random_state=42)"
   ]
  },
  {
   "cell_type": "code",
   "execution_count": 50,
   "id": "b2c0d775",
   "metadata": {},
   "outputs": [
    {
     "data": {
      "text/html": [
       "<div>\n",
       "<style scoped>\n",
       "    .dataframe tbody tr th:only-of-type {\n",
       "        vertical-align: middle;\n",
       "    }\n",
       "\n",
       "    .dataframe tbody tr th {\n",
       "        vertical-align: top;\n",
       "    }\n",
       "\n",
       "    .dataframe thead th {\n",
       "        text-align: right;\n",
       "    }\n",
       "</style>\n",
       "<table border=\"1\" class=\"dataframe\">\n",
       "  <thead>\n",
       "    <tr style=\"text-align: right;\">\n",
       "      <th></th>\n",
       "      <th>npreg</th>\n",
       "      <th>glu</th>\n",
       "      <th>bp</th>\n",
       "      <th>skin</th>\n",
       "      <th>bmi</th>\n",
       "      <th>ped</th>\n",
       "      <th>age</th>\n",
       "    </tr>\n",
       "  </thead>\n",
       "  <tbody>\n",
       "    <tr>\n",
       "      <th>22</th>\n",
       "      <td>0.117647</td>\n",
       "      <td>0.045455</td>\n",
       "      <td>0.534884</td>\n",
       "      <td>0.357143</td>\n",
       "      <td>0.180294</td>\n",
       "      <td>0.214561</td>\n",
       "      <td>0.016667</td>\n",
       "    </tr>\n",
       "    <tr>\n",
       "      <th>283</th>\n",
       "      <td>0.117647</td>\n",
       "      <td>0.681818</td>\n",
       "      <td>0.325581</td>\n",
       "      <td>0.357143</td>\n",
       "      <td>0.404612</td>\n",
       "      <td>0.066381</td>\n",
       "      <td>0.066667</td>\n",
       "    </tr>\n",
       "    <tr>\n",
       "      <th>315</th>\n",
       "      <td>0.117647</td>\n",
       "      <td>0.257576</td>\n",
       "      <td>0.418605</td>\n",
       "      <td>0.178571</td>\n",
       "      <td>0.360587</td>\n",
       "      <td>0.157602</td>\n",
       "      <td>0.000000</td>\n",
       "    </tr>\n",
       "    <tr>\n",
       "      <th>56</th>\n",
       "      <td>0.058824</td>\n",
       "      <td>0.174242</td>\n",
       "      <td>0.069767</td>\n",
       "      <td>0.625000</td>\n",
       "      <td>0.746331</td>\n",
       "      <td>0.176017</td>\n",
       "      <td>0.083333</td>\n",
       "    </tr>\n",
       "    <tr>\n",
       "      <th>219</th>\n",
       "      <td>0.235294</td>\n",
       "      <td>0.257576</td>\n",
       "      <td>0.511628</td>\n",
       "      <td>0.553571</td>\n",
       "      <td>0.280922</td>\n",
       "      <td>0.025696</td>\n",
       "      <td>0.200000</td>\n",
       "    </tr>\n",
       "  </tbody>\n",
       "</table>\n",
       "</div>"
      ],
      "text/plain": [
       "        npreg       glu        bp      skin       bmi       ped       age\n",
       "22   0.117647  0.045455  0.534884  0.357143  0.180294  0.214561  0.016667\n",
       "283  0.117647  0.681818  0.325581  0.357143  0.404612  0.066381  0.066667\n",
       "315  0.117647  0.257576  0.418605  0.178571  0.360587  0.157602  0.000000\n",
       "56   0.058824  0.174242  0.069767  0.625000  0.746331  0.176017  0.083333\n",
       "219  0.235294  0.257576  0.511628  0.553571  0.280922  0.025696  0.200000"
      ]
     },
     "execution_count": 50,
     "metadata": {},
     "output_type": "execute_result"
    }
   ],
   "source": [
    "X_train.head(5)"
   ]
  },
  {
   "cell_type": "code",
   "execution_count": 51,
   "id": "f6e23cbe",
   "metadata": {},
   "outputs": [
    {
     "data": {
      "text/html": [
       "<div>\n",
       "<style scoped>\n",
       "    .dataframe tbody tr th:only-of-type {\n",
       "        vertical-align: middle;\n",
       "    }\n",
       "\n",
       "    .dataframe tbody tr th {\n",
       "        vertical-align: top;\n",
       "    }\n",
       "\n",
       "    .dataframe thead th {\n",
       "        text-align: right;\n",
       "    }\n",
       "</style>\n",
       "<table border=\"1\" class=\"dataframe\">\n",
       "  <thead>\n",
       "    <tr style=\"text-align: right;\">\n",
       "      <th></th>\n",
       "      <th>npreg</th>\n",
       "      <th>glu</th>\n",
       "      <th>bp</th>\n",
       "      <th>skin</th>\n",
       "      <th>bmi</th>\n",
       "      <th>ped</th>\n",
       "      <th>age</th>\n",
       "    </tr>\n",
       "  </thead>\n",
       "  <tbody>\n",
       "    <tr>\n",
       "      <th>25</th>\n",
       "      <td>0.294118</td>\n",
       "      <td>0.174242</td>\n",
       "      <td>0.488372</td>\n",
       "      <td>0.250000</td>\n",
       "      <td>0.104822</td>\n",
       "      <td>0.110064</td>\n",
       "      <td>0.150000</td>\n",
       "    </tr>\n",
       "    <tr>\n",
       "      <th>317</th>\n",
       "      <td>0.176471</td>\n",
       "      <td>0.280303</td>\n",
       "      <td>0.232558</td>\n",
       "      <td>0.232143</td>\n",
       "      <td>0.238994</td>\n",
       "      <td>0.134904</td>\n",
       "      <td>0.083333</td>\n",
       "    </tr>\n",
       "    <tr>\n",
       "      <th>73</th>\n",
       "      <td>0.411765</td>\n",
       "      <td>0.280303</td>\n",
       "      <td>0.581395</td>\n",
       "      <td>0.589286</td>\n",
       "      <td>0.373166</td>\n",
       "      <td>0.050964</td>\n",
       "      <td>0.400000</td>\n",
       "    </tr>\n",
       "    <tr>\n",
       "      <th>193</th>\n",
       "      <td>0.058824</td>\n",
       "      <td>0.113636</td>\n",
       "      <td>0.581395</td>\n",
       "      <td>0.071429</td>\n",
       "      <td>0.222222</td>\n",
       "      <td>0.189293</td>\n",
       "      <td>0.016667</td>\n",
       "    </tr>\n",
       "    <tr>\n",
       "      <th>57</th>\n",
       "      <td>0.058824</td>\n",
       "      <td>0.393939</td>\n",
       "      <td>0.744186</td>\n",
       "      <td>0.303571</td>\n",
       "      <td>0.316562</td>\n",
       "      <td>0.136188</td>\n",
       "      <td>0.316667</td>\n",
       "    </tr>\n",
       "  </tbody>\n",
       "</table>\n",
       "</div>"
      ],
      "text/plain": [
       "        npreg       glu        bp      skin       bmi       ped       age\n",
       "25   0.294118  0.174242  0.488372  0.250000  0.104822  0.110064  0.150000\n",
       "317  0.176471  0.280303  0.232558  0.232143  0.238994  0.134904  0.083333\n",
       "73   0.411765  0.280303  0.581395  0.589286  0.373166  0.050964  0.400000\n",
       "193  0.058824  0.113636  0.581395  0.071429  0.222222  0.189293  0.016667\n",
       "57   0.058824  0.393939  0.744186  0.303571  0.316562  0.136188  0.316667"
      ]
     },
     "execution_count": 51,
     "metadata": {},
     "output_type": "execute_result"
    }
   ],
   "source": [
    "X_test.head(5)"
   ]
  },
  {
   "cell_type": "code",
   "execution_count": 52,
   "id": "8a92291a",
   "metadata": {},
   "outputs": [
    {
     "data": {
      "text/plain": [
       "22     0\n",
       "283    1\n",
       "315    0\n",
       "56     1\n",
       "219    0\n",
       "Name: type, dtype: int64"
      ]
     },
     "execution_count": 52,
     "metadata": {},
     "output_type": "execute_result"
    }
   ],
   "source": [
    "y_train.head(5)"
   ]
  },
  {
   "cell_type": "code",
   "execution_count": 53,
   "id": "0f948a40",
   "metadata": {},
   "outputs": [
    {
     "data": {
      "text/plain": [
       "25     0\n",
       "317    0\n",
       "73     0\n",
       "193    0\n",
       "57     1\n",
       "Name: type, dtype: int64"
      ]
     },
     "execution_count": 53,
     "metadata": {},
     "output_type": "execute_result"
    }
   ],
   "source": [
    "y_test.head(5)"
   ]
  },
  {
   "cell_type": "markdown",
   "id": "d24ac99d",
   "metadata": {},
   "source": [
    "### d)\n",
    "Model Consturction\n",
    "\n",
    "We will be looking at both the DecsionTreeClassifier, RandomForestClassifier, and KNN Classifier"
   ]
  },
  {
   "cell_type": "code",
   "execution_count": 54,
   "id": "e2673ec8",
   "metadata": {},
   "outputs": [],
   "source": [
    "from sklearn.ensemble import RandomForestClassifier\n",
    "from sklearn.tree import DecisionTreeClassifier\n",
    "from sklearn.neighbors import KNeighborsClassifier\n",
    "from sklearn.metrics import zero_one_loss\n",
    "from sklearn.metrics import classification_report \n",
    "from sklearn.metrics import confusion_matrix \n",
    "from sklearn.metrics import f1_score "
   ]
  },
  {
   "cell_type": "code",
   "execution_count": 55,
   "id": "924581a1",
   "metadata": {
    "scrolled": false
   },
   "outputs": [
    {
     "name": "stdout",
     "output_type": "stream",
     "text": [
      "DecisionTreeClassifier()\n",
      "Accuracy: 0.7\n",
      "Overall Error: 0.30000000000000004\n",
      "F1 Score: 0.6052631578947368\n",
      "Confusion Matrix\n",
      "[[47 10]\n",
      " [20 23]]\n",
      "\n",
      "RandomForestClassifier()\n",
      "Accuracy: 0.72\n",
      "Overall Error: 0.28\n",
      "F1 Score: 0.6111111111111112\n",
      "Confusion Matrix\n",
      "[[50  7]\n",
      " [21 22]]\n",
      "\n",
      "KNeighborsClassifier()\n",
      "Accuracy: 0.69\n",
      "Overall Error: 0.31000000000000005\n",
      "F1 Score: 0.5373134328358209\n",
      "Confusion Matrix\n",
      "[[51  6]\n",
      " [25 18]]\n",
      "\n"
     ]
    }
   ],
   "source": [
    "# Decision Tree\n",
    "dtc = DecisionTreeClassifier()\n",
    "dtc.fit(X_train, y_train)\n",
    "y_test_pred = dtc.predict(X_test)\n",
    "print(dtc)\n",
    "#Accuracy\n",
    "print(f\"Accuracy: {dtc.score(X_test, y_test)}\")\n",
    "\n",
    "#Overall Prediction Error\n",
    "print(f\"Overall Error: {zero_one_loss(y_test, y_test_pred)}\")\n",
    "    \n",
    "#F1 Score\n",
    "print(f\"F1 Score: {f1_score(y_test, y_test_pred)}\")\n",
    "    \n",
    "#Confusion Matrix\n",
    "print(f\"Confusion Matrix\")\n",
    "print(confusion_matrix(y_test, y_test_pred))\n",
    "print()\n",
    "\n",
    "# Random Forest\n",
    "rfc = RandomForestClassifier()\n",
    "rfc.fit(X_train, y_train)\n",
    "y_test_pred = rfc.predict(X_test)\n",
    "print(rfc)\n",
    "#Accuracy\n",
    "print(f\"Accuracy: {rfc.score(X_test, y_test)}\")\n",
    "\n",
    "#Overall Prediction Error\n",
    "print(f\"Overall Error: {zero_one_loss(y_test, y_test_pred)}\")\n",
    "    \n",
    "#F1 Score\n",
    "print(f\"F1 Score: {f1_score(y_test, y_test_pred)}\")\n",
    "    \n",
    "#Confusion Matrix\n",
    "print(f\"Confusion Matrix\")\n",
    "print(confusion_matrix(y_test, y_test_pred))\n",
    "print()\n",
    "\n",
    "# KNN Classifier\n",
    "knn = KNeighborsClassifier()\n",
    "knn.fit(X_train, y_train)\n",
    "y_test_pred = knn.predict(X_test)\n",
    "print(knn)\n",
    "#Accuracy\n",
    "print(f\"Accuracy: {knn.score(X_test, y_test)}\")\n",
    "\n",
    "#Overall Prediction Error\n",
    "print(f\"Overall Error: {zero_one_loss(y_test, y_test_pred)}\")\n",
    "    \n",
    "#F1 Score\n",
    "print(f\"F1 Score: {f1_score(y_test, y_test_pred)}\")\n",
    "    \n",
    "#Confusion Matrix\n",
    "print(f\"Confusion Matrix\")\n",
    "print(confusion_matrix(y_test, y_test_pred))\n",
    "print()"
   ]
  },
  {
   "cell_type": "markdown",
   "id": "88f03e26",
   "metadata": {},
   "source": [
    "Looking at the accuracy of the two models, we see that the RandomForestClassifier has the higher accuracy and lower overall prediction error rate, with KNeighborsClassifier being next, and then DecisionTreeClassifier being the worst. Also, because we are looking at whether a Pima Indian Woman will have diabetes or not, the false positives and false negatives are important. Therefore we looked at the F1 Score. This also showed that the RandomForestClassifier was the better model as it had a higher F1 score, but KNeighborsClassifier had the lowest F1 score. "
   ]
  },
  {
   "cell_type": "markdown",
   "id": "6653a926",
   "metadata": {},
   "source": [
    "## e)\n",
    "Hyperparameter tuning"
   ]
  },
  {
   "cell_type": "markdown",
   "id": "c393bd97",
   "metadata": {},
   "source": [
    "#### Hyperparamter tuning for Decision Tree Classifier"
   ]
  },
  {
   "cell_type": "code",
   "execution_count": 56,
   "id": "6925577a",
   "metadata": {},
   "outputs": [],
   "source": [
    "# Finding the optimal max_depth utilizing Grid Search\n",
    "dtc_max = dtc.tree_.max_depth"
   ]
  },
  {
   "cell_type": "code",
   "execution_count": 57,
   "id": "1c81cfb2",
   "metadata": {},
   "outputs": [
    {
     "data": {
      "text/plain": [
       "{'ccp_alpha': 0.0,\n",
       " 'class_weight': None,\n",
       " 'criterion': 'gini',\n",
       " 'max_depth': None,\n",
       " 'max_features': None,\n",
       " 'max_leaf_nodes': None,\n",
       " 'min_impurity_decrease': 0.0,\n",
       " 'min_samples_leaf': 1,\n",
       " 'min_samples_split': 2,\n",
       " 'min_weight_fraction_leaf': 0.0,\n",
       " 'random_state': None,\n",
       " 'splitter': 'best'}"
      ]
     },
     "execution_count": 57,
     "metadata": {},
     "output_type": "execute_result"
    }
   ],
   "source": [
    "# Printing parameters of my RandomForestRegressor model that was trained.\n",
    "dtc.get_params()"
   ]
  },
  {
   "cell_type": "code",
   "execution_count": 58,
   "id": "02f00b3f",
   "metadata": {},
   "outputs": [
    {
     "name": "stdout",
     "output_type": "stream",
     "text": [
      "DecisionTreeClassifier(max_depth=9, max_features=0.6)\n"
     ]
    }
   ],
   "source": [
    "# utilized the f1 scoring to determing the max depth and max features, since the best f1 will be the best model. \n",
    "\n",
    "new_params = {'max_depth':range(1,(dtc.tree_.max_depth)), 'max_features':[0.2,0.4,0.6,0.8]}\n",
    "dtc_grid = GridSearchCV(estimator = dtc, param_grid = new_params, cv=8, scoring = \"f1\")\n",
    "dtc_grid.fit(X_train, y_train)\n",
    "\n",
    "print(dtc_grid.best_estimator_)"
   ]
  },
  {
   "cell_type": "markdown",
   "id": "4f05a92f",
   "metadata": {},
   "source": [
    "#### Hyperparameter Tuning of Random Forest Classifier"
   ]
  },
  {
   "cell_type": "code",
   "execution_count": 59,
   "id": "37e0e1a9",
   "metadata": {},
   "outputs": [
    {
     "data": {
      "text/plain": [
       "{'bootstrap': True,\n",
       " 'ccp_alpha': 0.0,\n",
       " 'class_weight': None,\n",
       " 'criterion': 'gini',\n",
       " 'max_depth': None,\n",
       " 'max_features': 'auto',\n",
       " 'max_leaf_nodes': None,\n",
       " 'max_samples': None,\n",
       " 'min_impurity_decrease': 0.0,\n",
       " 'min_samples_leaf': 1,\n",
       " 'min_samples_split': 2,\n",
       " 'min_weight_fraction_leaf': 0.0,\n",
       " 'n_estimators': 100,\n",
       " 'n_jobs': None,\n",
       " 'oob_score': False,\n",
       " 'random_state': None,\n",
       " 'verbose': 0,\n",
       " 'warm_start': False}"
      ]
     },
     "execution_count": 59,
     "metadata": {},
     "output_type": "execute_result"
    }
   ],
   "source": [
    "# Printing parameters of my RandomForestRegressor model that was trained.\n",
    "rfc.get_params()"
   ]
  },
  {
   "cell_type": "code",
   "execution_count": 60,
   "id": "2c05a068",
   "metadata": {},
   "outputs": [
    {
     "name": "stdout",
     "output_type": "stream",
     "text": [
      "RandomForestClassifier(max_depth=6, max_features=0.8)\n"
     ]
    }
   ],
   "source": [
    "# utilized the f1 scoring to determing the max depth and max features, since the best f1 will be the best model.  \n",
    "\n",
    "new_params = {'max_depth':range(1,(dtc.tree_.max_depth)), 'max_features':[0.2,0.4,0.6,0.8]}\n",
    "rfc_grid = GridSearchCV(estimator = rfc, param_grid = new_params, cv=8, scoring = \"f1\")\n",
    "rfc_grid.fit(X_train, y_train)\n",
    "\n",
    "print(rfc_grid.best_estimator_)"
   ]
  },
  {
   "cell_type": "markdown",
   "id": "ee76d41c",
   "metadata": {},
   "source": [
    "#### Hyperparameter Tuning of KNeighborsClassifier"
   ]
  },
  {
   "cell_type": "code",
   "execution_count": 61,
   "id": "00687e25",
   "metadata": {},
   "outputs": [
    {
     "data": {
      "text/plain": [
       "{'algorithm': 'auto',\n",
       " 'leaf_size': 30,\n",
       " 'metric': 'minkowski',\n",
       " 'metric_params': None,\n",
       " 'n_jobs': None,\n",
       " 'n_neighbors': 5,\n",
       " 'p': 2,\n",
       " 'weights': 'uniform'}"
      ]
     },
     "execution_count": 61,
     "metadata": {},
     "output_type": "execute_result"
    }
   ],
   "source": [
    "# Printing parameters of my KNeighborsClassifier model that was trained.\n",
    "knn.get_params()"
   ]
  },
  {
   "cell_type": "code",
   "execution_count": 62,
   "id": "953d382c",
   "metadata": {},
   "outputs": [
    {
     "name": "stdout",
     "output_type": "stream",
     "text": [
      "KNeighborsClassifier(n_neighbors=25)\n"
     ]
    }
   ],
   "source": [
    "# looking through 1-50 n_neighbors scoring to determing the   \n",
    "new_params = {'n_neighbors':range(1,51)}\n",
    "knn_grid = GridSearchCV(estimator = knn, param_grid = new_params, cv=8, scoring = \"f1\")\n",
    "knn_grid.fit(X_train, y_train)\n",
    "\n",
    "print(knn_grid.best_estimator_)"
   ]
  },
  {
   "cell_type": "markdown",
   "id": "685071bf",
   "metadata": {},
   "source": [
    "### f)\n",
    "Use the best or optimal parameter values to build a model, then compute the accuracy score for the decision tree and for the random forest). "
   ]
  },
  {
   "cell_type": "code",
   "execution_count": 63,
   "id": "aa9cdf59",
   "metadata": {},
   "outputs": [
    {
     "name": "stdout",
     "output_type": "stream",
     "text": [
      "RandomForestClassifier(max_depth=6, max_features=0.8)\n",
      "Accuracy: 0.76\n",
      "Overall Error: 0.24\n",
      "F1 Score: 0.6666666666666666\n",
      "Confusion Matrix\n",
      "[[52  5]\n",
      " [19 24]]\n",
      "\n",
      "DecisionTreeClassifier(max_depth=9, max_features=0.6)\n",
      "Accuracy: 0.73\n",
      "Overall Error: 0.27\n",
      "F1 Score: 0.6582278481012659\n",
      "Confusion Matrix\n",
      "[[51  6]\n",
      " [25 18]]\n",
      "\n",
      "KNeighborsClassifier(n_neighbors=25)\n",
      "Accuracy: 0.72\n",
      "Overall Error: 0.28\n",
      "F1 Score: 0.5333333333333333\n",
      "Confusion Matrix\n",
      "[[56  1]\n",
      " [27 16]]\n",
      "\n"
     ]
    }
   ],
   "source": [
    "# Evalutating the new RandomForestClassifier model\n",
    "rfc_new = rfc_grid.best_estimator_\n",
    "rfc_new.fit(X_train, y_train)\n",
    "rfcpreds_test = rfc_new.predict(X_test)\n",
    "\n",
    "print(rfc_new)\n",
    "print(f\"Accuracy: {rfc_new.score(X_test, y_test)}\")\n",
    "\n",
    "#Overall Prediction Error\n",
    "print(f\"Overall Error: {zero_one_loss(y_test, rfcpreds_test)}\")\n",
    "    \n",
    "#F1 Score\n",
    "print(f\"F1 Score: {f1_score(y_test, rfcpreds_test)}\")\n",
    "    \n",
    "#Confusion Matrix\n",
    "print(f\"Confusion Matrix\")\n",
    "print(confusion_matrix(y_test, rfcpreds_test))\n",
    "print()\n",
    "\n",
    "# Evalutating the new DecisionTree model\n",
    "dtc_new = dtc_grid.best_estimator_\n",
    "dtc_new.fit(X_train, y_train)\n",
    "dtcpreds_test = dtc_new.predict(X_test)\n",
    "\n",
    "print(dtc_new)\n",
    "print(f\"Accuracy: {dtc_new.score(X_test, y_test)}\")\n",
    "\n",
    "#Overall Prediction Error\n",
    "print(f\"Overall Error: {zero_one_loss(y_test, dtcpreds_test)}\")\n",
    "    \n",
    "#F1 Score\n",
    "print(f\"F1 Score: {f1_score(y_test, dtcpreds_test)}\")\n",
    "    \n",
    "#Confusion Matrix\n",
    "print(f\"Confusion Matrix\")\n",
    "print(confusion_matrix(y_test, y_test_pred))\n",
    "print()\n",
    "\n",
    "# KNN Classifier\n",
    "knn = knn_grid.best_estimator_\n",
    "knn.fit(X_train, y_train)\n",
    "y_test_pred = knn.predict(X_test)\n",
    "print(knn)\n",
    "#Accuracy\n",
    "print(f\"Accuracy: {knn.score(X_test, y_test)}\")\n",
    "\n",
    "#Overall Prediction Error\n",
    "print(f\"Overall Error: {zero_one_loss(y_test, y_test_pred)}\")\n",
    "    \n",
    "#F1 Score\n",
    "print(f\"F1 Score: {f1_score(y_test, y_test_pred)}\")\n",
    "    \n",
    "#Confusion Matrix\n",
    "print(f\"Confusion Matrix\")\n",
    "print(confusion_matrix(y_test, y_test_pred))\n",
    "print()"
   ]
  },
  {
   "cell_type": "markdown",
   "id": "acd5cec7",
   "metadata": {},
   "source": []
  },
  {
   "cell_type": "markdown",
   "id": "fa07d40d",
   "metadata": {},
   "source": [
    "Looking at the best parameters after hypertuning, we now see that the DecisionTreeClassifier has the highest f1 score, and the highest accuracy score, with RandomForestClassifier then next highest of both scores, and KNN being the worst model for the Pima Diabetes Dataset. It is important to note that while KNNeighborsClassifier had the lowest F1 score, its accuracy was only 0.02% lower than DecisionTreeClassifier. "
   ]
  },
  {
   "cell_type": "code",
   "execution_count": null,
   "id": "a378bd63",
   "metadata": {},
   "outputs": [],
   "source": []
  },
  {
   "cell_type": "code",
   "execution_count": null,
   "id": "e13e0cd8",
   "metadata": {},
   "outputs": [],
   "source": []
  },
  {
   "cell_type": "code",
   "execution_count": null,
   "id": "043ef3de",
   "metadata": {},
   "outputs": [],
   "source": []
  },
  {
   "cell_type": "code",
   "execution_count": null,
   "id": "d5e88e39",
   "metadata": {},
   "outputs": [],
   "source": []
  },
  {
   "cell_type": "code",
   "execution_count": null,
   "id": "71f05013",
   "metadata": {},
   "outputs": [],
   "source": []
  }
 ],
 "metadata": {
  "kernelspec": {
   "display_name": "Python 3 (ipykernel)",
   "language": "python",
   "name": "python3"
  },
  "language_info": {
   "codemirror_mode": {
    "name": "ipython",
    "version": 3
   },
   "file_extension": ".py",
   "mimetype": "text/x-python",
   "name": "python",
   "nbconvert_exporter": "python",
   "pygments_lexer": "ipython3",
   "version": "3.9.12"
  }
 },
 "nbformat": 4,
 "nbformat_minor": 5
}
